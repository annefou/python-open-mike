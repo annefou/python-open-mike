{
 "cells": [
  {
   "cell_type": "code",
   "execution_count": 1,
   "metadata": {},
   "outputs": [],
   "source": [
    "def my_list_enumerate(mylist, start=0):\n",
    "    '''\n",
    "    Pure finite list version. Does not work with iterables and returns a list.\n",
    "    Should work (at least) with lists, tuples, dicts, and sets.\n",
    "    '''\n",
    "\n",
    "    result = []\n",
    "    for i in range(len(mylist)):\n",
    "        current_position = i + start\n",
    "        result.append((current_position, mylist[i]))\n",
    "\n",
    "    return result"
   ]
  },
  {
   "cell_type": "code",
   "execution_count": 2,
   "metadata": {},
   "outputs": [
    {
     "name": "stdout",
     "output_type": "stream",
     "text": [
      "[(0, 'first element'), (1, 'and the second'), (2, 'finally, the third')]\n"
     ]
    }
   ],
   "source": [
    "mylist = ['first element', 'and the second', 'finally, the third']\n",
    "\n",
    "print(my_list_enumerate(mylist))"
   ]
  },
  {
   "cell_type": "code",
   "execution_count": 6,
   "metadata": {},
   "outputs": [
    {
     "name": "stdout",
     "output_type": "stream",
     "text": [
      "[16, 25]\n"
     ]
    }
   ],
   "source": [
    "numbers = [1, 2, 3, 4, 5]\n",
    "\n",
    "squares = []\n",
    "for number in numbers:\n",
    "    squares.append(number*number)\n",
    "    \n",
    "    \n",
    "new_list = [number**2 for number in numbers if number > 3]\n",
    "print(new_list)"
   ]
  },
  {
   "cell_type": "code",
   "execution_count": 7,
   "metadata": {},
   "outputs": [],
   "source": [
    "def my_lazy_function():\n",
    "    yield 2\n",
    "    yield 3\n",
    "    yield 4"
   ]
  },
  {
   "cell_type": "code",
   "execution_count": 8,
   "metadata": {},
   "outputs": [],
   "source": [
    "some_object = my_lazy_function()"
   ]
  },
  {
   "cell_type": "code",
   "execution_count": 9,
   "metadata": {},
   "outputs": [
    {
     "data": {
      "text/plain": [
       "2"
      ]
     },
     "execution_count": 9,
     "metadata": {},
     "output_type": "execute_result"
    }
   ],
   "source": [
    "next(some_object)"
   ]
  },
  {
   "cell_type": "code",
   "execution_count": 10,
   "metadata": {},
   "outputs": [
    {
     "data": {
      "text/plain": [
       "4"
      ]
     },
     "execution_count": 10,
     "metadata": {},
     "output_type": "execute_result"
    }
   ],
   "source": [
    "next(some_object)\n",
    "next(some_object)"
   ]
  },
  {
   "cell_type": "code",
   "execution_count": 11,
   "metadata": {},
   "outputs": [
    {
     "ename": "StopIteration",
     "evalue": "",
     "output_type": "error",
     "traceback": [
      "\u001b[0;31m---------------------------------------------------------------------------\u001b[0m",
      "\u001b[0;31mStopIteration\u001b[0m                             Traceback (most recent call last)",
      "\u001b[0;32m<ipython-input-11-08f811966ef7>\u001b[0m in \u001b[0;36m<module>\u001b[0;34m\u001b[0m\n\u001b[0;32m----> 1\u001b[0;31m \u001b[0mnext\u001b[0m\u001b[0;34m(\u001b[0m\u001b[0msome_object\u001b[0m\u001b[0;34m)\u001b[0m\u001b[0;34m\u001b[0m\u001b[0;34m\u001b[0m\u001b[0m\n\u001b[0m",
      "\u001b[0;31mStopIteration\u001b[0m: "
     ]
    }
   ],
   "source": [
    "next(some_object)"
   ]
  },
  {
   "cell_type": "code",
   "execution_count": 12,
   "metadata": {},
   "outputs": [],
   "source": [
    "l = [n*2 for n in range(1000)]"
   ]
  },
  {
   "cell_type": "code",
   "execution_count": 15,
   "metadata": {},
   "outputs": [],
   "source": [
    "g = (n*2 for n in range(1000000000000))"
   ]
  },
  {
   "cell_type": "code",
   "execution_count": 22,
   "metadata": {},
   "outputs": [],
   "source": [
    "def my_enumerate(list_, start=0):\n",
    "    n = start\n",
    "    for l in list_:\n",
    "        yield n, l\n",
    "        n += 1"
   ]
  },
  {
   "cell_type": "code",
   "execution_count": 23,
   "metadata": {},
   "outputs": [
    {
     "data": {
      "text/plain": [
       "<generator object my_enumerate at 0x7f6ae17d7de0>"
      ]
     },
     "execution_count": 23,
     "metadata": {},
     "output_type": "execute_result"
    }
   ],
   "source": [
    "my_enumerate(['a', 'b', 'c', 'd'])"
   ]
  },
  {
   "cell_type": "code",
   "execution_count": 24,
   "metadata": {},
   "outputs": [
    {
     "data": {
      "text/plain": [
       "[(0, 'a'), (1, 'b'), (2, 'c'), (3, 'd')]"
      ]
     },
     "execution_count": 24,
     "metadata": {},
     "output_type": "execute_result"
    }
   ],
   "source": [
    "list(my_enumerate(['a', 'b', 'c', 'd']))"
   ]
  },
  {
   "cell_type": "code",
   "execution_count": 25,
   "metadata": {},
   "outputs": [],
   "source": [
    "my_text = \"this is some text\""
   ]
  },
  {
   "cell_type": "code",
   "execution_count": 30,
   "metadata": {},
   "outputs": [],
   "source": [
    "text_iterator = iter(my_text)"
   ]
  },
  {
   "cell_type": "code",
   "execution_count": 29,
   "metadata": {},
   "outputs": [
    {
     "data": {
      "text/plain": [
       "'h'"
      ]
     },
     "execution_count": 29,
     "metadata": {},
     "output_type": "execute_result"
    }
   ],
   "source": [
    "next(text_iterator)"
   ]
  },
  {
   "cell_type": "code",
   "execution_count": 32,
   "metadata": {},
   "outputs": [
    {
     "data": {
      "text/plain": [
       "<zip at 0x7f6ae84164c8>"
      ]
     },
     "execution_count": 32,
     "metadata": {},
     "output_type": "execute_result"
    }
   ],
   "source": [
    "zip([0, 1, 2], ['a', 'b', 'c'])"
   ]
  },
  {
   "cell_type": "code",
   "execution_count": 34,
   "metadata": {},
   "outputs": [
    {
     "data": {
      "text/plain": [
       "[(0, 'a'), (1, 'b'), (2, 'c')]"
      ]
     },
     "execution_count": 34,
     "metadata": {},
     "output_type": "execute_result"
    }
   ],
   "source": [
    "list(zip([0, 1, 2], ['a', 'b', 'c']))"
   ]
  },
  {
   "cell_type": "code",
   "execution_count": 35,
   "metadata": {},
   "outputs": [
    {
     "name": "stdout",
     "output_type": "stream",
     "text": [
      "12 am\n",
      " 1 am\n",
      " 2 am\n",
      " 3 am\n",
      " 4 am\n",
      " 5 am\n",
      " 6 am\n",
      " 7 am\n",
      " 8 am\n",
      " 9 am\n",
      "10 am\n",
      "11 am\n",
      "12 pm\n",
      " 1 pm\n",
      " 2 pm\n",
      " 3 pm\n",
      " 4 pm\n",
      " 5 pm\n",
      " 6 pm\n",
      " 7 pm\n",
      " 8 pm\n",
      " 9 pm\n",
      "10 pm\n",
      "11 pm\n",
      "12 am\n",
      " 1 am\n",
      " 2 am\n",
      " 3 am\n"
     ]
    }
   ],
   "source": [
    "def clock_generator():\n",
    "    '''\n",
    "    Infinite generator that loops through the hours of the day yielding American-style hours.\n",
    "    '''\n",
    "\n",
    "    time = 12\n",
    "    am = True\n",
    "\n",
    "    post_string = ('pm', 'am')\n",
    "\n",
    "    while True:\n",
    "        # The following yield contains a special formating command:\n",
    "        # >2 formats the given variable right-aligned with a width of two characters\n",
    "        # Furthermore, there is a \"dirty hack\":\n",
    "        # post_string[am] uses the trick that True is evaluated to 1 and False is evaluated to 0\n",
    "        # Alternatively, something like the following could be used:\n",
    "        # if am:\n",
    "        #     string = 'am'\n",
    "        # else:\n",
    "        #     string = 'pm'\n",
    "        yield '{:>2} {}'.format(time, post_string[am])\n",
    "\n",
    "        time += 1\n",
    "\n",
    "        if time == 12:\n",
    "            am = not am\n",
    "        elif time == 13:\n",
    "            time = 1\n",
    "\n",
    "\n",
    "my_clock = clock_generator()\n",
    "\n",
    "for _ in range(28):\n",
    "    print(next(my_clock))"
   ]
  },
  {
   "cell_type": "code",
   "execution_count": 37,
   "metadata": {},
   "outputs": [],
   "source": [
    "def give_me_some_tuple():\n",
    "    return 13, 27\n",
    "\n",
    "x, _ = give_me_some_tuple()"
   ]
  },
  {
   "cell_type": "code",
   "execution_count": 38,
   "metadata": {},
   "outputs": [
    {
     "data": {
      "text/plain": [
       "[0,\n",
       " 1,\n",
       " 2,\n",
       " 3,\n",
       " 4,\n",
       " 5,\n",
       " 6,\n",
       " 7,\n",
       " 8,\n",
       " 9,\n",
       " 10,\n",
       " 11,\n",
       " 12,\n",
       " 13,\n",
       " 14,\n",
       " 15,\n",
       " 16,\n",
       " 17,\n",
       " 18,\n",
       " 19,\n",
       " 20,\n",
       " 21,\n",
       " 22,\n",
       " 23,\n",
       " 24]"
      ]
     },
     "execution_count": 38,
     "metadata": {},
     "output_type": "execute_result"
    }
   ],
   "source": [
    "times = range(25)\n",
    "list(times)"
   ]
  },
  {
   "cell_type": "code",
   "execution_count": 44,
   "metadata": {},
   "outputs": [
    {
     "data": {
      "text/plain": [
       "'the time is 11, it is really 11'"
      ]
     },
     "execution_count": 44,
     "metadata": {},
     "output_type": "execute_result"
    }
   ],
   "source": [
    "hour = 11\n",
    "f\"the time is {hour} o'clock\"  # python 3.6 and later\n",
    "\"the time is {0}\".format(hour)\n",
    "\"the time is {0}, it is really {0}\".format(hour)\n",
    "\"the time is {hour}, it is really {hour}\".format(hour=hour)"
   ]
  },
  {
   "cell_type": "code",
   "execution_count": 45,
   "metadata": {},
   "outputs": [],
   "source": [
    "l1 = list(range(1, 6))\n",
    "l2 = list(range(5, 0, -1))\n",
    "ll = l1 + l2"
   ]
  },
  {
   "cell_type": "code",
   "execution_count": 47,
   "metadata": {},
   "outputs": [
    {
     "data": {
      "text/plain": [
       "[1, 2, 3, 4, 5]"
      ]
     },
     "execution_count": 47,
     "metadata": {},
     "output_type": "execute_result"
    }
   ],
   "source": [
    "l1"
   ]
  },
  {
   "cell_type": "code",
   "execution_count": 49,
   "metadata": {},
   "outputs": [
    {
     "data": {
      "text/plain": [
       "[5, 4, 3, 2, 1]"
      ]
     },
     "execution_count": 49,
     "metadata": {},
     "output_type": "execute_result"
    }
   ],
   "source": [
    "l2"
   ]
  },
  {
   "cell_type": "code",
   "execution_count": 50,
   "metadata": {},
   "outputs": [
    {
     "data": {
      "text/plain": [
       "[1, 2, 3, 4, 5, 5, 4, 3, 2, 1]"
      ]
     },
     "execution_count": 50,
     "metadata": {},
     "output_type": "execute_result"
    }
   ],
   "source": [
    "ll"
   ]
  },
  {
   "cell_type": "code",
   "execution_count": 53,
   "metadata": {},
   "outputs": [],
   "source": [
    "# how to read files\n",
    "# with open(\"some_file.txt\", \"r\") as f:\n",
    "#     for line in f:\n",
    "#         print(line)"
   ]
  },
  {
   "cell_type": "code",
   "execution_count": 61,
   "metadata": {},
   "outputs": [
    {
     "name": "stdout",
     "output_type": "stream",
     "text": [
      "       /\\       \n",
      "      /  \\      \n",
      "     /    \\     \n",
      "    *--  --¤    \n",
      "      /  \\      \n",
      "     /    \\     \n",
      "    /      \\    \n",
      "   ¤--    --ø   \n",
      "     /    \\     \n",
      "    /      \\    \n",
      "   /        \\   \n",
      "  Å--      --0  \n",
      "    /      \\    \n",
      "   /        \\   \n",
      "  /          \\  \n",
      "  --        --  \n",
      "   /        \\   \n",
      "  /          \\  \n",
      " /            \\ \n",
      "@-----+  +----- \n",
      "      +--+      \n"
     ]
    }
   ],
   "source": [
    "import random\n",
    "\n",
    "\n",
    "def make_tree(floors=3, decoration='ø0*Å¤@ '):\n",
    "    '''\n",
    "    Returns a string depicting a tree with given number of levels/floors.\n",
    "    Decoration may be given as a string of characters suitable as decoration.\n",
    "    If no decoration is desired, pass an empty string.\n",
    "    '''\n",
    "\n",
    "    if not decoration:\n",
    "        decoration = ' '\n",
    "    if floors < 1:\n",
    "        floors = 1\n",
    "    elif floors > 10:\n",
    "        floors = 10\n",
    "\n",
    "    tree = []\n",
    "\n",
    "    for floor in range(floors):\n",
    "        # Add the three rows with diagonals:\n",
    "        tree.append('{:>4}{}{:<4}'.format('/', ' ' * (floor * 2), '\\\\'))\n",
    "        tree.append('{:>3}{}{:<3}'.format('/', ' ' * (floor * 2 + 2), '\\\\'))\n",
    "        tree.append('{:>2}{}{:<2}'.format('/', ' ' * (floor * 2 + 4), '\\\\'))\n",
    "\n",
    "        # Add the bottom row of the floor:\n",
    "        row = '{}--{}--{}'.format(\n",
    "            random.choice(decoration), ' ' * ((floor + 1) * 2),\n",
    "            random.choice(decoration))\n",
    "        tree.append(row)\n",
    "\n",
    "    # For the trunk, the last line has to be changed to close the gap\n",
    "    tree[-1] = '{}{}+  +{}{}'.format(\n",
    "        random.choice(decoration), '-' * floors, '-' * floors,\n",
    "        random.choice(decoration))\n",
    "    tree.append('+--+')\n",
    "\n",
    "    # Center all lines\n",
    "    total_width = floors * 2 + 6\n",
    "    tree = (row.center(total_width) for row in tree)\n",
    "\n",
    "    return '\\n'.join(tree)\n",
    "\n",
    "\n",
    "tree = make_tree(floors=5)\n",
    "print(tree)"
   ]
  },
  {
   "cell_type": "code",
   "execution_count": 62,
   "metadata": {},
   "outputs": [
    {
     "name": "stdout",
     "output_type": "stream",
     "text": [
      "       /\\ \n",
      "      /§§\\ \n",
      "     /¤¤¤¤\\ \n",
      "    /§§§§§§\\ \n",
      "   /¤¤¤¤¤¤¤¤\\ \n",
      "  /§§§§§§§§§§\\ \n",
      "  -------------\n",
      "       |_|\n",
      "               /\\ \n",
      "              /§§\\ \n",
      "             /¤¤¤¤\\ \n",
      "            /§§§§§§\\ \n",
      "           /¤¤¤¤¤¤¤¤\\ \n",
      "          /§§§§§§§§§§\\ \n",
      "         /¤¤¤¤¤¤¤¤¤¤¤¤\\ \n",
      "        /§§§§§§§§§§§§§§\\ \n",
      "       /¤¤¤¤¤¤¤¤¤¤¤¤¤¤¤¤\\ \n",
      "      /§§§§§§§§§§§§§§§§§§\\ \n",
      "     /¤¤¤¤¤¤¤¤¤¤¤¤¤¤¤¤¤¤¤¤\\ \n",
      "    /§§§§§§§§§§§§§§§§§§§§§§\\ \n",
      "   /¤¤¤¤¤¤¤¤¤¤¤¤¤¤¤¤¤¤¤¤¤¤¤¤\\ \n",
      "  /§§§§§§§§§§§§§§§§§§§§§§§§§§\\ \n",
      "  -----------------------------\n",
      "               | |\n",
      "      [+][+][+]|_|[+][+][+]\n"
     ]
    }
   ],
   "source": [
    "def christmas_tree(n):\n",
    "    j = n\n",
    "    # print(\" \"*n + \"**\")\n",
    "    for i in range(n-1):\n",
    "        if i % 2 == 0:\n",
    "            print(\" \"*j + \"/\" + \"¤\"*i*2 + \"\\ \")\n",
    "        else:\n",
    "            print(\" \"*j + \"/\" + \"§\"*i*2 + \"\\ \")\n",
    "        j = j - 1\n",
    "\n",
    "    print(\" \"*2 + (2*n-1)*\"-\")\n",
    "\n",
    "    if n >= 10:\n",
    "        print(\" \"*n + \"| |\")\n",
    "        print(\" \"*(n-9) + 3*\"[+]\" + \"|_|\" + 3*\"[+]\")\n",
    "    else:\n",
    "        print(\" \"*n + \"|_|\")\n",
    "\n",
    "\n",
    "christmas_tree(7)\n",
    "christmas_tree(15)"
   ]
  },
  {
   "cell_type": "code",
   "execution_count": 66,
   "metadata": {},
   "outputs": [
    {
     "name": "stdout",
     "output_type": "stream",
     "text": [
      "          *\n",
      "         ***\n",
      "        *****\n",
      "       *******\n",
      "      *********\n",
      "     ***********\n",
      "    *************\n",
      "   ***************\n",
      "  *****************\n",
      " *******************\n"
     ]
    }
   ],
   "source": [
    "def make_tree(rows, art='*', counter=0):\n",
    "    rows -= 1\n",
    "    counter += 1\n",
    "    if rows == -1:\n",
    "        return\n",
    "    make_tree(rows, art, counter)\n",
    "    print(counter*len(art)*' ' + (2*rows + 1)*art)\n",
    "\n",
    "\n",
    "make_tree(10)"
   ]
  },
  {
   "cell_type": "code",
   "execution_count": 67,
   "metadata": {},
   "outputs": [
    {
     "name": "stdout",
     "output_type": "stream",
     "text": [
      "aaaaa\n"
     ]
    }
   ],
   "source": [
    "print(5*'a')"
   ]
  },
  {
   "cell_type": "code",
   "execution_count": 68,
   "metadata": {},
   "outputs": [
    {
     "name": "stdout",
     "output_type": "stream",
     "text": [
      "Help on class enumerate in module builtins:\n",
      "\n",
      "class enumerate(object)\n",
      " |  enumerate(iterable, start=0)\n",
      " |  \n",
      " |  Return an enumerate object.\n",
      " |  \n",
      " |    iterable\n",
      " |      an object supporting iteration\n",
      " |  \n",
      " |  The enumerate object yields pairs containing a count (from start, which\n",
      " |  defaults to zero) and a value yielded by the iterable argument.\n",
      " |  \n",
      " |  enumerate is useful for obtaining an indexed list:\n",
      " |      (0, seq[0]), (1, seq[1]), (2, seq[2]), ...\n",
      " |  \n",
      " |  Methods defined here:\n",
      " |  \n",
      " |  __getattribute__(self, name, /)\n",
      " |      Return getattr(self, name).\n",
      " |  \n",
      " |  __iter__(self, /)\n",
      " |      Implement iter(self).\n",
      " |  \n",
      " |  __next__(self, /)\n",
      " |      Implement next(self).\n",
      " |  \n",
      " |  __reduce__(...)\n",
      " |      Return state information for pickling.\n",
      " |  \n",
      " |  ----------------------------------------------------------------------\n",
      " |  Static methods defined here:\n",
      " |  \n",
      " |  __new__(*args, **kwargs) from builtins.type\n",
      " |      Create and return a new object.  See help(type) for accurate signature.\n",
      "\n"
     ]
    }
   ],
   "source": [
    "help(enumerate)"
   ]
  }
 ],
 "metadata": {
  "kernelspec": {
   "display_name": "Python 3",
   "language": "python",
   "name": "python3"
  },
  "language_info": {
   "codemirror_mode": {
    "name": "ipython",
    "version": 3
   },
   "file_extension": ".py",
   "mimetype": "text/x-python",
   "name": "python",
   "nbconvert_exporter": "python",
   "pygments_lexer": "ipython3",
   "version": "3.7.1"
  }
 },
 "nbformat": 4,
 "nbformat_minor": 2
}
